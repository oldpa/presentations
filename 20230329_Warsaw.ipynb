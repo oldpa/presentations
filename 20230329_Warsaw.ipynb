{
 "cells": [
  {
   "cell_type": "markdown",
   "id": "975d9632-cc43-43cb-80f8-0cc21e192f66",
   "metadata": {
    "slideshow": {
     "slide_type": "slide"
    },
    "tags": []
   },
   "source": [
    "# The Art of Dataset Design: How to Build Tables That Support Any Analysis\n",
    "## By William James"
   ]
  },
  {
   "cell_type": "markdown",
   "id": "1a5dda37-365f-4aaf-a1e3-861ea2b0305e",
   "metadata": {
    "slideshow": {
     "slide_type": "skip"
    },
    "tags": []
   },
   "source": [
    "## Imports"
   ]
  },
  {
   "cell_type": "code",
   "execution_count": 1,
   "id": "74cfa5d0-a630-4c63-b75d-19a7ae7c9a84",
   "metadata": {
    "slideshow": {
     "slide_type": "skip"
    },
    "tags": []
   },
   "outputs": [],
   "source": [
    "import sqlite3\n",
    "import random\n",
    "import time\n",
    "import pandas as pd\n",
    "from datetime import datetime, timedelta\n",
    "\n",
    "import matplotlib\n",
    "import numpy as np\n",
    "import matplotlib.pyplot as plt\n",
    "%matplotlib inline"
   ]
  },
  {
   "cell_type": "markdown",
   "id": "1d5a0ca1-c566-48fc-a1dc-71290bda7058",
   "metadata": {
    "slideshow": {
     "slide_type": "slide"
    },
    "tags": []
   },
   "source": [
    "# Agenda\n",
    "* Super engaging hook story about Spotify launching in the US\n",
    "* Less engaging agenda walk through\n",
    "* Short intro to data warehouse best practices\n",
    "* Introducing `signals` - my favourite analytics table design\n",
    "* How to create your very own `signals` dataset (warning technical!)\n",
    "\n",
    "Notebook available at https://github.com/oldpa/presentations"
   ]
  },
  {
   "cell_type": "markdown",
   "id": "18413e07-b91c-419c-95d3-7cf8ad9925dd",
   "metadata": {
    "slideshow": {
     "slide_type": "skip"
    },
    "tags": []
   },
   "source": [
    "## Step 0: Create mock event data"
   ]
  },
  {
   "cell_type": "code",
   "execution_count": 2,
   "id": "c0fba655-ac15-4a36-9cd7-35808a192544",
   "metadata": {
    "slideshow": {
     "slide_type": "skip"
    },
    "tags": []
   },
   "outputs": [],
   "source": [
    "# Create a connection and a cursor\n",
    "!rm events.db\n",
    "conn = sqlite3.connect('events.db')\n",
    "cursor = conn.cursor()\n",
    "\n",
    "# Create the `facts.events` table\n",
    "\n",
    "cursor.execute('''drop table if exists events''')\n",
    "cursor.execute('''CREATE TABLE IF NOT EXISTS events\n",
    "                 (timestamp TEXT, user_id INTEGER, event_name TEXT, value REAL)''')\n",
    "\n",
    "# Generate events for 100 users\n",
    "event_types = [\"dau\", \"login\", \"create_todo\", \"complete_todo\", \"move_todo\", \"delete_todo\", \"view_ad\", \"revenue\"]\n",
    "num_users = 100\n",
    "num_days = 180\n",
    "\n",
    "# Helper function to generate random date within the last 180 days\n",
    "def random_date():\n",
    "    end_date = datetime.now()\n",
    "    start_date = end_date - timedelta(days=num_days)\n",
    "    random_seconds = random.randint(0, int((end_date - start_date).total_seconds()))\n",
    "    return start_date + timedelta(seconds=random_seconds)\n",
    "\n",
    "def random_time(date):\n",
    "    return date + timedelta(seconds = random.randint(0, 3600 * 24))\n",
    "\n",
    "for user_id in range(1, num_users + 1):\n",
    "    # Simulate users having different engagement\n",
    "    engagement = random.random()\n",
    "    signup_date = random_date()\n",
    "    cursor.execute(\"INSERT INTO events (timestamp, user_id, event_name, value) VALUES (?, ?, ?, ?)\", (signup_date, user_id, 'login', None))\n",
    "    for i in range(num_days):\n",
    "        date = signup_date + timedelta(i)\n",
    "        if random.random() > engagement:\n",
    "            for _ in range(1 + int(engagement * 10)):\n",
    "                timestamp = random_time(date).strftime(\"%Y-%m-%d %H:%M:%S\")\n",
    "                event_name = random.choice(event_types)\n",
    "\n",
    "                if event_name == \"revenue\":\n",
    "                    value = round(random.uniform(0.5, 50), 2)\n",
    "                else:\n",
    "                    value = None\n",
    "\n",
    "                cursor.execute(\"INSERT INTO events (timestamp, user_id, event_name, value) VALUES (?, ?, ?, ?)\", (timestamp, user_id, event_name, value))\n",
    "\n",
    "# Commit the changes and close the connection\n",
    "conn.commit()\n",
    "\n"
   ]
  },
  {
   "cell_type": "markdown",
   "id": "fad48c52-3ea0-489e-99f1-7369e0e9bb42",
   "metadata": {
    "tags": []
   },
   "source": [
    "## The starting point is event data, one row per event on user_id level"
   ]
  },
  {
   "cell_type": "code",
   "execution_count": 3,
   "id": "01c3b3e3-507c-40fc-bcbb-06a7481700c4",
   "metadata": {
    "slideshow": {
     "slide_type": "slide"
    },
    "tags": []
   },
   "outputs": [
    {
     "data": {
      "text/html": [
       "<div>\n",
       "<style scoped>\n",
       "    .dataframe tbody tr th:only-of-type {\n",
       "        vertical-align: middle;\n",
       "    }\n",
       "\n",
       "    .dataframe tbody tr th {\n",
       "        vertical-align: top;\n",
       "    }\n",
       "\n",
       "    .dataframe thead th {\n",
       "        text-align: right;\n",
       "    }\n",
       "</style>\n",
       "<table border=\"1\" class=\"dataframe\">\n",
       "  <thead>\n",
       "    <tr style=\"text-align: right;\">\n",
       "      <th></th>\n",
       "      <th>timestamp</th>\n",
       "      <th>user_id</th>\n",
       "      <th>event_name</th>\n",
       "      <th>value</th>\n",
       "    </tr>\n",
       "  </thead>\n",
       "  <tbody>\n",
       "    <tr>\n",
       "      <th>0</th>\n",
       "      <td>2022-11-15 21:31:00.511270</td>\n",
       "      <td>1</td>\n",
       "      <td>login</td>\n",
       "      <td>NaN</td>\n",
       "    </tr>\n",
       "    <tr>\n",
       "      <th>1</th>\n",
       "      <td>2022-11-16 08:45:40</td>\n",
       "      <td>1</td>\n",
       "      <td>delete_todo</td>\n",
       "      <td>NaN</td>\n",
       "    </tr>\n",
       "    <tr>\n",
       "      <th>2</th>\n",
       "      <td>2022-11-17 01:15:40</td>\n",
       "      <td>1</td>\n",
       "      <td>revenue</td>\n",
       "      <td>49.23</td>\n",
       "    </tr>\n",
       "    <tr>\n",
       "      <th>3</th>\n",
       "      <td>2022-11-18 10:18:06</td>\n",
       "      <td>1</td>\n",
       "      <td>move_todo</td>\n",
       "      <td>NaN</td>\n",
       "    </tr>\n",
       "    <tr>\n",
       "      <th>4</th>\n",
       "      <td>2022-11-18 23:56:35</td>\n",
       "      <td>1</td>\n",
       "      <td>move_todo</td>\n",
       "      <td>NaN</td>\n",
       "    </tr>\n",
       "    <tr>\n",
       "      <th>5</th>\n",
       "      <td>2022-11-20 09:14:16</td>\n",
       "      <td>1</td>\n",
       "      <td>complete_todo</td>\n",
       "      <td>NaN</td>\n",
       "    </tr>\n",
       "    <tr>\n",
       "      <th>6</th>\n",
       "      <td>2022-11-21 01:47:13</td>\n",
       "      <td>1</td>\n",
       "      <td>move_todo</td>\n",
       "      <td>NaN</td>\n",
       "    </tr>\n",
       "    <tr>\n",
       "      <th>7</th>\n",
       "      <td>2022-11-22 19:56:57</td>\n",
       "      <td>1</td>\n",
       "      <td>create_todo</td>\n",
       "      <td>NaN</td>\n",
       "    </tr>\n",
       "    <tr>\n",
       "      <th>8</th>\n",
       "      <td>2022-11-23 11:19:14</td>\n",
       "      <td>1</td>\n",
       "      <td>login</td>\n",
       "      <td>NaN</td>\n",
       "    </tr>\n",
       "    <tr>\n",
       "      <th>9</th>\n",
       "      <td>2022-11-24 18:04:55</td>\n",
       "      <td>1</td>\n",
       "      <td>view_ad</td>\n",
       "      <td>NaN</td>\n",
       "    </tr>\n",
       "  </tbody>\n",
       "</table>\n",
       "</div>"
      ],
      "text/plain": [
       "                    timestamp  user_id     event_name  value\n",
       "0  2022-11-15 21:31:00.511270        1          login    NaN\n",
       "1         2022-11-16 08:45:40        1    delete_todo    NaN\n",
       "2         2022-11-17 01:15:40        1        revenue  49.23\n",
       "3         2022-11-18 10:18:06        1      move_todo    NaN\n",
       "4         2022-11-18 23:56:35        1      move_todo    NaN\n",
       "5         2022-11-20 09:14:16        1  complete_todo    NaN\n",
       "6         2022-11-21 01:47:13        1      move_todo    NaN\n",
       "7         2022-11-22 19:56:57        1    create_todo    NaN\n",
       "8         2022-11-23 11:19:14        1          login    NaN\n",
       "9         2022-11-24 18:04:55        1        view_ad    NaN"
      ]
     },
     "execution_count": 3,
     "metadata": {},
     "output_type": "execute_result"
    }
   ],
   "source": [
    "pd.read_sql_query(\"SELECT * FROM events limit 10\", conn)"
   ]
  },
  {
   "cell_type": "markdown",
   "id": "a7329629-052e-400b-9dbd-62e95a0a00f5",
   "metadata": {
    "slideshow": {
     "slide_type": "slide"
    },
    "tags": []
   },
   "source": [
    "## Step 1: Create aggregated events per day and user"
   ]
  },
  {
   "cell_type": "code",
   "execution_count": 4,
   "id": "b874254b-53a1-442a-be50-58dcbcb807e5",
   "metadata": {
    "slideshow": {
     "slide_type": "subslide"
    },
    "tags": []
   },
   "outputs": [],
   "source": [
    "conn.execute('drop table if exists daily_events')\n",
    "conn.execute(\"\"\"\n",
    "create table daily_events as\n",
    "SELECT\n",
    "user_id,\n",
    "date(timestamp) as date,\n",
    "cast(count(case when event_name in ('create_todo', 'complete_todo') then 1 end) > 0 as integer) as dau,\n",
    "count(case when event_name ='login' then 1 end) as login,\n",
    "count(case when event_name ='create_todo' then 1 end) as create_todo,\n",
    "count(case when event_name ='complete_todo' then 1 end) as complete_todo,\n",
    "count(case when event_name ='move_todo' then 1 end) as move_todo,\n",
    "count(case when event_name ='delete_todo' then 1 end) as delete_todo,\n",
    "count(case when event_name ='view_ad' then 1 end) as view_ad,\n",
    "coalesce(sum(case when event_name ='revenue' then value end), 0) as revenue\n",
    "from events\n",
    "group by 1,2\n",
    "\"\"\");"
   ]
  },
  {
   "cell_type": "code",
   "execution_count": 5,
   "id": "f70ecf0b-a940-45a9-a951-7258890563b1",
   "metadata": {
    "slideshow": {
     "slide_type": "subslide"
    },
    "tags": []
   },
   "outputs": [
    {
     "data": {
      "text/html": [
       "<div>\n",
       "<style scoped>\n",
       "    .dataframe tbody tr th:only-of-type {\n",
       "        vertical-align: middle;\n",
       "    }\n",
       "\n",
       "    .dataframe tbody tr th {\n",
       "        vertical-align: top;\n",
       "    }\n",
       "\n",
       "    .dataframe thead th {\n",
       "        text-align: right;\n",
       "    }\n",
       "</style>\n",
       "<table border=\"1\" class=\"dataframe\">\n",
       "  <thead>\n",
       "    <tr style=\"text-align: right;\">\n",
       "      <th></th>\n",
       "      <th>user_id</th>\n",
       "      <th>date</th>\n",
       "      <th>dau</th>\n",
       "      <th>login</th>\n",
       "      <th>create_todo</th>\n",
       "      <th>complete_todo</th>\n",
       "      <th>move_todo</th>\n",
       "      <th>delete_todo</th>\n",
       "      <th>view_ad</th>\n",
       "      <th>revenue</th>\n",
       "    </tr>\n",
       "  </thead>\n",
       "  <tbody>\n",
       "    <tr>\n",
       "      <th>0</th>\n",
       "      <td>1</td>\n",
       "      <td>2022-11-15</td>\n",
       "      <td>0</td>\n",
       "      <td>1</td>\n",
       "      <td>0</td>\n",
       "      <td>0</td>\n",
       "      <td>0</td>\n",
       "      <td>0</td>\n",
       "      <td>0</td>\n",
       "      <td>0.00</td>\n",
       "    </tr>\n",
       "    <tr>\n",
       "      <th>1</th>\n",
       "      <td>1</td>\n",
       "      <td>2022-11-16</td>\n",
       "      <td>0</td>\n",
       "      <td>0</td>\n",
       "      <td>0</td>\n",
       "      <td>0</td>\n",
       "      <td>0</td>\n",
       "      <td>1</td>\n",
       "      <td>0</td>\n",
       "      <td>0.00</td>\n",
       "    </tr>\n",
       "    <tr>\n",
       "      <th>2</th>\n",
       "      <td>1</td>\n",
       "      <td>2022-11-17</td>\n",
       "      <td>0</td>\n",
       "      <td>0</td>\n",
       "      <td>0</td>\n",
       "      <td>0</td>\n",
       "      <td>0</td>\n",
       "      <td>0</td>\n",
       "      <td>0</td>\n",
       "      <td>49.23</td>\n",
       "    </tr>\n",
       "    <tr>\n",
       "      <th>3</th>\n",
       "      <td>1</td>\n",
       "      <td>2022-11-18</td>\n",
       "      <td>0</td>\n",
       "      <td>0</td>\n",
       "      <td>0</td>\n",
       "      <td>0</td>\n",
       "      <td>2</td>\n",
       "      <td>0</td>\n",
       "      <td>0</td>\n",
       "      <td>0.00</td>\n",
       "    </tr>\n",
       "    <tr>\n",
       "      <th>4</th>\n",
       "      <td>1</td>\n",
       "      <td>2022-11-20</td>\n",
       "      <td>1</td>\n",
       "      <td>0</td>\n",
       "      <td>0</td>\n",
       "      <td>1</td>\n",
       "      <td>0</td>\n",
       "      <td>0</td>\n",
       "      <td>0</td>\n",
       "      <td>0.00</td>\n",
       "    </tr>\n",
       "    <tr>\n",
       "      <th>5</th>\n",
       "      <td>1</td>\n",
       "      <td>2022-11-21</td>\n",
       "      <td>0</td>\n",
       "      <td>0</td>\n",
       "      <td>0</td>\n",
       "      <td>0</td>\n",
       "      <td>1</td>\n",
       "      <td>0</td>\n",
       "      <td>0</td>\n",
       "      <td>0.00</td>\n",
       "    </tr>\n",
       "    <tr>\n",
       "      <th>6</th>\n",
       "      <td>1</td>\n",
       "      <td>2022-11-22</td>\n",
       "      <td>1</td>\n",
       "      <td>0</td>\n",
       "      <td>1</td>\n",
       "      <td>0</td>\n",
       "      <td>0</td>\n",
       "      <td>0</td>\n",
       "      <td>0</td>\n",
       "      <td>0.00</td>\n",
       "    </tr>\n",
       "    <tr>\n",
       "      <th>7</th>\n",
       "      <td>1</td>\n",
       "      <td>2022-11-23</td>\n",
       "      <td>0</td>\n",
       "      <td>1</td>\n",
       "      <td>0</td>\n",
       "      <td>0</td>\n",
       "      <td>0</td>\n",
       "      <td>0</td>\n",
       "      <td>0</td>\n",
       "      <td>0.00</td>\n",
       "    </tr>\n",
       "    <tr>\n",
       "      <th>8</th>\n",
       "      <td>1</td>\n",
       "      <td>2022-11-24</td>\n",
       "      <td>0</td>\n",
       "      <td>0</td>\n",
       "      <td>0</td>\n",
       "      <td>0</td>\n",
       "      <td>0</td>\n",
       "      <td>0</td>\n",
       "      <td>1</td>\n",
       "      <td>0.00</td>\n",
       "    </tr>\n",
       "    <tr>\n",
       "      <th>9</th>\n",
       "      <td>1</td>\n",
       "      <td>2022-11-25</td>\n",
       "      <td>0</td>\n",
       "      <td>1</td>\n",
       "      <td>0</td>\n",
       "      <td>0</td>\n",
       "      <td>0</td>\n",
       "      <td>0</td>\n",
       "      <td>0</td>\n",
       "      <td>0.00</td>\n",
       "    </tr>\n",
       "  </tbody>\n",
       "</table>\n",
       "</div>"
      ],
      "text/plain": [
       "   user_id        date  dau  login  create_todo  complete_todo  move_todo  \\\n",
       "0        1  2022-11-15    0      1            0              0          0   \n",
       "1        1  2022-11-16    0      0            0              0          0   \n",
       "2        1  2022-11-17    0      0            0              0          0   \n",
       "3        1  2022-11-18    0      0            0              0          2   \n",
       "4        1  2022-11-20    1      0            0              1          0   \n",
       "5        1  2022-11-21    0      0            0              0          1   \n",
       "6        1  2022-11-22    1      0            1              0          0   \n",
       "7        1  2022-11-23    0      1            0              0          0   \n",
       "8        1  2022-11-24    0      0            0              0          0   \n",
       "9        1  2022-11-25    0      1            0              0          0   \n",
       "\n",
       "   delete_todo  view_ad  revenue  \n",
       "0            0        0     0.00  \n",
       "1            1        0     0.00  \n",
       "2            0        0    49.23  \n",
       "3            0        0     0.00  \n",
       "4            0        0     0.00  \n",
       "5            0        0     0.00  \n",
       "6            0        0     0.00  \n",
       "7            0        0     0.00  \n",
       "8            0        1     0.00  \n",
       "9            0        0     0.00  "
      ]
     },
     "execution_count": 5,
     "metadata": {},
     "output_type": "execute_result"
    }
   ],
   "source": [
    "pd.read_sql_query(\"select * from daily_events limit 10\", conn)"
   ]
  },
  {
   "cell_type": "markdown",
   "id": "52b146f7-4c8d-40e8-8cf6-ba62b63ccd11",
   "metadata": {
    "slideshow": {
     "slide_type": "slide"
    },
    "tags": []
   },
   "source": [
    "## Step 2: Create signals dataset"
   ]
  },
  {
   "cell_type": "markdown",
   "id": "be6b89c8-2ed3-4aeb-812b-393ff4a6cc9b",
   "metadata": {
    "slideshow": {
     "slide_type": "slide"
    },
    "tags": []
   },
   "source": [
    "## First create a cross join between all dates and all users"
   ]
  },
  {
   "cell_type": "code",
   "execution_count": 6,
   "id": "3fbfa56e-f3fb-4419-9dd5-bcb80d779f66",
   "metadata": {
    "slideshow": {
     "slide_type": "fragment"
    },
    "tags": []
   },
   "outputs": [],
   "source": [
    "\n",
    "SIGNALS_QUERY = \"\"\"\n",
    "create table signals as\n",
    "WITH RECURSIVE\n",
    "    -- Create a list of consecutive dates\n",
    "    dates (date) AS (\n",
    "        SELECT date(julianday('now') - 179)\n",
    "        UNION ALL\n",
    "        SELECT date(julianday(date) + 1)\n",
    "        FROM dates\n",
    "        WHERE date < date('now')\n",
    "    ),\n",
    "    -- Create a list of unique users\n",
    "    users AS (\n",
    "        SELECT user_id, min(date) as signup_date\n",
    "        FROM daily_events group by 1\n",
    "    -- Cross join all users and dates, one row per user_id and date\n",
    "    ), user_dates as (\n",
    "        SELECT users.user_id, dates.date, users.signup_date\n",
    "        FROM users\n",
    "        CROSS JOIN dates\n",
    "        where dates.date >= users.signup_date\n",
    "    )\n",
    "\"\"\""
   ]
  },
  {
   "cell_type": "markdown",
   "id": "c014b2d6-d2e8-4d41-874b-c596561cbe67",
   "metadata": {
    "slideshow": {
     "slide_type": "slide"
    },
    "tags": []
   },
   "source": [
    "## Left join this data with the daily events"
   ]
  },
  {
   "cell_type": "code",
   "execution_count": 7,
   "id": "cf26d095-5a78-43cd-8605-28edf6194bfa",
   "metadata": {
    "slideshow": {
     "slide_type": "fragment"
    },
    "tags": []
   },
   "outputs": [],
   "source": [
    "SIGNALS_QUERY += \"\"\"\n",
    "    SELECT\n",
    "    ud.user_id,\n",
    "    ud.date,\n",
    "    round(julianday(ud.date) - julianday(ud.signup_date)) as days_since_signup,\n",
    "    \n",
    "    --<events go here>--\n",
    "    \n",
    "    current_timestamp as etl_at\n",
    "    FROM user_dates ud\n",
    "    left join daily_events e on e.user_id = ud.user_id and e.date = ud.date\n",
    "\"\"\""
   ]
  },
  {
   "cell_type": "markdown",
   "id": "e29bd6d0-0a78-42e0-a934-150683798bbe",
   "metadata": {
    "slideshow": {
     "slide_type": "slide"
    },
    "tags": []
   },
   "source": [
    "## Add login related events"
   ]
  },
  {
   "cell_type": "code",
   "execution_count": 8,
   "id": "bba42f8e-34bb-45f1-8108-7b572082dcfc",
   "metadata": {
    "slideshow": {
     "slide_type": "fragment"
    },
    "tags": []
   },
   "outputs": [],
   "source": [
    "partition = \"partition by ud.user_id order by ud.date rows between\"\n",
    "EVENTS_QUERY = f\"\"\"\n",
    "--login events\n",
    "sum(e.login) over ({partition} current row and current row) as login_today,\n",
    "sum(e.login) over ({partition} 1 preceding and 1 preceding) as login_yesterday,\n",
    "sum(e.login) over ({partition} 6 preceding and current row) as login_last_7_days,\n",
    "sum(e.login) over ({partition} 27 preceding and current row) as login_last_28_days,\n",
    "sum(e.login) over ({partition} unbounded preceding and 0 following) as login_first_day,\n",
    "sum(e.login) over ({partition} unbounded preceding and 6 following) as login_first_7_days,\n",
    "\"\"\""
   ]
  },
  {
   "cell_type": "markdown",
   "id": "4329c92a-689b-40b5-a94f-c4063eaef9cc",
   "metadata": {
    "slideshow": {
     "slide_type": "slide"
    },
    "tags": []
   },
   "source": [
    "## Add for all events"
   ]
  },
  {
   "cell_type": "code",
   "execution_count": 9,
   "id": "58655396-6737-4364-a1ed-ca9b023f9b9a",
   "metadata": {
    "slideshow": {
     "slide_type": "fragment"
    },
    "tags": []
   },
   "outputs": [],
   "source": [
    "ALL_EVENTS_QUERY = \"\"\n",
    "event_types = [\"dau\", \"login\", \"create_todo\", \"complete_todo\", \"move_todo\", \"delete_todo\", \"view_ad\", \"revenue\"]\n",
    "for event in event_types:\n",
    "    ALL_EVENTS_QUERY += EVENTS_QUERY.replace('login', event)\n",
    "SIGNALS_QUERY = SIGNALS_QUERY.replace('--<events go here>--', ALL_EVENTS_QUERY)\n",
    "conn.execute('drop table if exists signals');\n",
    "conn.execute(SIGNALS_QUERY);"
   ]
  },
  {
   "cell_type": "markdown",
   "id": "a10fdcda-2e82-4e73-aa3a-c093ecc30e3b",
   "metadata": {
    "slideshow": {
     "slide_type": "slide"
    },
    "tags": []
   },
   "source": [
    "# Easily calculate the basics: DAU, MAU"
   ]
  },
  {
   "cell_type": "code",
   "execution_count": 10,
   "id": "163814dd-2a28-49fa-83b2-c189a592bf5d",
   "metadata": {
    "slideshow": {
     "slide_type": "fragment"
    },
    "tags": []
   },
   "outputs": [
    {
     "data": {
      "text/html": [
       "<div>\n",
       "<style scoped>\n",
       "    .dataframe tbody tr th:only-of-type {\n",
       "        vertical-align: middle;\n",
       "    }\n",
       "\n",
       "    .dataframe tbody tr th {\n",
       "        vertical-align: top;\n",
       "    }\n",
       "\n",
       "    .dataframe thead th {\n",
       "        text-align: right;\n",
       "    }\n",
       "</style>\n",
       "<table border=\"1\" class=\"dataframe\">\n",
       "  <thead>\n",
       "    <tr style=\"text-align: right;\">\n",
       "      <th></th>\n",
       "      <th>date</th>\n",
       "      <th>dau</th>\n",
       "      <th>mau</th>\n",
       "    </tr>\n",
       "  </thead>\n",
       "  <tbody>\n",
       "    <tr>\n",
       "      <th>0</th>\n",
       "      <td>2023-03-28</td>\n",
       "      <td>34</td>\n",
       "      <td>92</td>\n",
       "    </tr>\n",
       "    <tr>\n",
       "      <th>1</th>\n",
       "      <td>2023-03-27</td>\n",
       "      <td>33</td>\n",
       "      <td>92</td>\n",
       "    </tr>\n",
       "    <tr>\n",
       "      <th>2</th>\n",
       "      <td>2023-03-26</td>\n",
       "      <td>27</td>\n",
       "      <td>92</td>\n",
       "    </tr>\n",
       "  </tbody>\n",
       "</table>\n",
       "</div>"
      ],
      "text/plain": [
       "         date  dau  mau\n",
       "0  2023-03-28   34   92\n",
       "1  2023-03-27   33   92\n",
       "2  2023-03-26   27   92"
      ]
     },
     "execution_count": 10,
     "metadata": {},
     "output_type": "execute_result"
    }
   ],
   "source": [
    "pd.read_sql_query(\"\"\"\n",
    "select\n",
    "    date,\n",
    "    count(case when dau_today > 0 then 1 end) as dau,\n",
    "    count(case when dau_last_28_days > 0 then 1 end) as mau\n",
    "from \n",
    "    signals\n",
    "group by 1\n",
    "order by 1 desc\n",
    "\"\"\", conn).head(3)"
   ]
  },
  {
   "cell_type": "markdown",
   "id": "09ea2342-96ea-4a85-9fd6-4c85bb7109c2",
   "metadata": {
    "slideshow": {
     "slide_type": "slide"
    },
    "tags": []
   },
   "source": [
    "# Easily filter out users based on a complex combination of signals\n",
    "## Users that have dropped off in the funnel"
   ]
  },
  {
   "cell_type": "code",
   "execution_count": 11,
   "id": "9975ec0d-134f-45d1-86a3-14f163bdd7d7",
   "metadata": {
    "slideshow": {
     "slide_type": "fragment"
    },
    "tags": []
   },
   "outputs": [
    {
     "data": {
      "text/html": [
       "<div>\n",
       "<style scoped>\n",
       "    .dataframe tbody tr th:only-of-type {\n",
       "        vertical-align: middle;\n",
       "    }\n",
       "\n",
       "    .dataframe tbody tr th {\n",
       "        vertical-align: top;\n",
       "    }\n",
       "\n",
       "    .dataframe thead th {\n",
       "        text-align: right;\n",
       "    }\n",
       "</style>\n",
       "<table border=\"1\" class=\"dataframe\">\n",
       "  <thead>\n",
       "    <tr style=\"text-align: right;\">\n",
       "      <th></th>\n",
       "      <th>count(1)</th>\n",
       "    </tr>\n",
       "  </thead>\n",
       "  <tbody>\n",
       "    <tr>\n",
       "      <th>0</th>\n",
       "      <td>10</td>\n",
       "    </tr>\n",
       "  </tbody>\n",
       "</table>\n",
       "</div>"
      ],
      "text/plain": [
       "   count(1)\n",
       "0        10"
      ]
     },
     "execution_count": 11,
     "metadata": {},
     "output_type": "execute_result"
    }
   ],
   "source": [
    "pd.read_sql_query(\"\"\"\n",
    "select\n",
    "    count(1)\n",
    "from \n",
    "    signals\n",
    "    where\n",
    "    days_since_signup = 7 and\n",
    "    create_todo_last_7_days > 0\n",
    "    and complete_todo_last_7_days = 0\n",
    "\"\"\", conn)"
   ]
  },
  {
   "cell_type": "markdown",
   "id": "11b03b6c-bad2-4f02-a930-01980b2283f3",
   "metadata": {
    "slideshow": {
     "slide_type": "slide"
    },
    "tags": []
   },
   "source": [
    "# Revenue (LTV) 28 days after signup"
   ]
  },
  {
   "cell_type": "code",
   "execution_count": 12,
   "id": "9fcc42a1-3823-41b5-966b-1f236a749164",
   "metadata": {
    "slideshow": {
     "slide_type": "fragment"
    },
    "tags": []
   },
   "outputs": [
    {
     "data": {
      "text/html": [
       "<div>\n",
       "<style scoped>\n",
       "    .dataframe tbody tr th:only-of-type {\n",
       "        vertical-align: middle;\n",
       "    }\n",
       "\n",
       "    .dataframe tbody tr th {\n",
       "        vertical-align: top;\n",
       "    }\n",
       "\n",
       "    .dataframe thead th {\n",
       "        text-align: right;\n",
       "    }\n",
       "</style>\n",
       "<table border=\"1\" class=\"dataframe\">\n",
       "  <thead>\n",
       "    <tr style=\"text-align: right;\">\n",
       "      <th></th>\n",
       "      <th>date</th>\n",
       "      <th>ltv_d28</th>\n",
       "    </tr>\n",
       "  </thead>\n",
       "  <tbody>\n",
       "    <tr>\n",
       "      <th>0</th>\n",
       "      <td>2023-03-28</td>\n",
       "      <td>291.05</td>\n",
       "    </tr>\n",
       "    <tr>\n",
       "      <th>1</th>\n",
       "      <td>2023-03-25</td>\n",
       "      <td>184.48</td>\n",
       "    </tr>\n",
       "    <tr>\n",
       "      <th>2</th>\n",
       "      <td>2023-03-24</td>\n",
       "      <td>0.00</td>\n",
       "    </tr>\n",
       "  </tbody>\n",
       "</table>\n",
       "</div>"
      ],
      "text/plain": [
       "         date  ltv_d28\n",
       "0  2023-03-28   291.05\n",
       "1  2023-03-25   184.48\n",
       "2  2023-03-24     0.00"
      ]
     },
     "execution_count": 12,
     "metadata": {},
     "output_type": "execute_result"
    }
   ],
   "source": [
    "pd.read_sql_query(\"\"\"\n",
    "select\n",
    "    date,\n",
    "    sum(revenue_last_28_days) as ltv_d28\n",
    "from \n",
    "    signals\n",
    "    where\n",
    "    days_since_signup = 27\n",
    "group by 1 order by 1 desc\n",
    "\"\"\", conn).head(3)"
   ]
  },
  {
   "cell_type": "markdown",
   "id": "877ef661-e98f-4c9c-aad7-2077dd537af9",
   "metadata": {
    "tags": []
   },
   "source": [
    "# Questions?"
   ]
  },
  {
   "cell_type": "code",
   "execution_count": null,
   "id": "2d564866-7f3f-4f96-8a7e-ca1d5faf8e7e",
   "metadata": {},
   "outputs": [],
   "source": []
  }
 ],
 "metadata": {
  "kernelspec": {
   "display_name": "Python 3 (ipykernel)",
   "language": "python",
   "name": "python3"
  },
  "language_info": {
   "codemirror_mode": {
    "name": "ipython",
    "version": 3
   },
   "file_extension": ".py",
   "mimetype": "text/x-python",
   "name": "python",
   "nbconvert_exporter": "python",
   "pygments_lexer": "ipython3",
   "version": "3.9.6"
  }
 },
 "nbformat": 4,
 "nbformat_minor": 5
}
